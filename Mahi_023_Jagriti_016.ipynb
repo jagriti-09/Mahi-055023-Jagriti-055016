{
 "cells": [
  {
   "cell_type": "code",
   "execution_count": 165,
   "id": "4cd15562-0163-49da-a6b3-e9d85986a1d5",
   "metadata": {},
   "outputs": [],
   "source": [
    "import os\n",
    "import pandas as pd"
   ]
  },
  {
   "cell_type": "code",
   "execution_count": 247,
   "id": "0fcfc720-312e-4bf2-9566-e3b3b637d4c3",
   "metadata": {},
   "outputs": [],
   "source": [
    "#. Load the Test Data.\n",
    "my_df=pd.read_csv(\"C:\\\\Users\\\\Hp\\\\Downloads\\\\Imports_Exports_Dataset.csv\")"
   ]
  },
  {
   "cell_type": "code",
   "execution_count": 249,
   "id": "c9cbb64e-517d-4cbd-8daf-4cb096788794",
   "metadata": {},
   "outputs": [
    {
     "data": {
      "text/plain": [
       "(15000, 16)"
      ]
     },
     "execution_count": 249,
     "metadata": {},
     "output_type": "execute_result"
    }
   ],
   "source": [
    "#  Display the Dimensions of Test Data.\n",
    "my_df.shape"
   ]
  },
  {
   "cell_type": "code",
   "execution_count": 251,
   "id": "500a1023-0620-406d-bc2c-1d28c8b7e1a2",
   "metadata": {},
   "outputs": [],
   "source": [
    "#  Create a Unique Sample of 20 Observations using Student Roll Number as Random State.\n",
    "my_sample= my_df.sample(n=20, random_state=55023)"
   ]
  },
  {
   "cell_type": "code",
   "execution_count": 253,
   "id": "599a1fd4-8b9e-4c0a-8c2b-b6b6283da1fa",
   "metadata": {},
   "outputs": [
    {
     "data": {
      "text/plain": [
       "(20, 16)"
      ]
     },
     "execution_count": 253,
     "metadata": {},
     "output_type": "execute_result"
    }
   ],
   "source": [
    "#  Display the Dimensions of Sample Data.\n",
    "my_sample.shape"
   ]
  },
  {
   "cell_type": "code",
   "execution_count": 255,
   "id": "18dd774a-9b6f-4856-b1c6-fef6c1795b4c",
   "metadata": {},
   "outputs": [
    {
     "data": {
      "text/plain": [
       "<bound method DataFrame.info of                              Transaction_ID                 Country  \\\n",
       "7575   99298f6d-4630-493f-a215-dba810d36228            Burkina Faso   \n",
       "7898   051dcf24-03f2-4d3e-b8e6-d3bddd298a57             Isle of Man   \n",
       "11534  5f0d9b14-56b3-4949-b0df-10cdfe78bd54               Argentina   \n",
       "10117  db46dd88-18d9-429f-825b-7c85c476714f                 Armenia   \n",
       "8867   e1c87ff9-ee9a-40c7-9b9a-3bbda7542293                Barbados   \n",
       "12824  ba62ff21-8575-4f17-adbe-2a22143e203f              Montenegro   \n",
       "9208   d7982e0b-6903-4c3f-9e15-8bb01820ef39              San Marino   \n",
       "8458   601e6607-6590-489d-b44c-c4c8db86b5ab                 Iceland   \n",
       "14978  7a9c79aa-e846-485e-9ea8-21f4d0c292ce                 Nigeria   \n",
       "6790   8ab692b0-263b-4358-859f-01aea493082b                Cambodia   \n",
       "14102  5de36257-dc2c-4b8a-9abb-3de378730643                 Belarus   \n",
       "8679   4aff0ca9-a3c0-41ad-89bb-af3b5ed8cf72    United Arab Emirates   \n",
       "2355   1a124068-815c-47ed-b795-71ddf67d2311                    Togo   \n",
       "1920   9d930454-e621-4ba4-9be0-1ab72c7db93f                 Lebanon   \n",
       "7393   e4fa9e2b-7855-45eb-85d8-fd5899ad17ad                  Turkey   \n",
       "6602   5e037835-e106-460c-b094-b78d6912e3e7                Slovenia   \n",
       "11250  ac457bb6-d02e-483b-bc3f-99a6f9b6a8b3  Libyan Arab Jamahiriya   \n",
       "10169  573652f0-b3f0-4fec-9850-bd5afaed5627                Barbados   \n",
       "7016   b1b38ddb-10c7-4842-8577-b4c9c6628572              San Marino   \n",
       "386    f57b8a92-0a12-43b3-a4fc-0dbad44f85e7                  Angola   \n",
       "\n",
       "           Product Import_Export  Quantity    Value        Date     Category  \\\n",
       "7575       hundred        Export      1052  3084.02  02-08-2024     Clothing   \n",
       "7898         style        Import      6333  8201.51  27-08-2022  Electronics   \n",
       "11534      subject        Export      7125  6643.86  18-06-2022    Machinery   \n",
       "10117        write        Export      9757   852.29  20-08-2022     Clothing   \n",
       "8867        region        Export      1156  1688.27  11-01-2024         Toys   \n",
       "12824         town        Export      8964  5818.59  20-10-2022    Furniture   \n",
       "9208      suddenly        Import      3218  1390.93  10-08-2024  Electronics   \n",
       "8458          hold        Export      8278  8175.93  18-11-2021    Furniture   \n",
       "14978          man        Import      6841  9287.25  02-02-2023    Furniture   \n",
       "6790          once        Export      6434  9699.45  25-08-2020  Electronics   \n",
       "14102         wall        Import      1570  2435.28  02-05-2023  Electronics   \n",
       "8679      marriage        Import      5257  8165.62  30-10-2023     Clothing   \n",
       "2355           cut        Export      3344  5568.45  16-11-2020         Toys   \n",
       "1920         enter        Export      3119  4857.95  10-02-2021     Clothing   \n",
       "7393        effort        Import      8170  1163.52  31-10-2019         Toys   \n",
       "6602         level        Import      8945  8939.74  19-05-2022  Electronics   \n",
       "11250          red        Import      2545  2684.24  18-09-2022    Machinery   \n",
       "10169  environment        Import      1465  6166.74  05-10-2019  Electronics   \n",
       "7016           six        Import      9820  2678.58  05-08-2020  Electronics   \n",
       "386        product        Export      1264  3876.04  06-01-2024    Machinery   \n",
       "\n",
       "                  Port  Customs_Code   Weight Shipping_Method  \\\n",
       "7575        Greeneland        203424  2619.91            Land   \n",
       "7898     South Amyport        238655  1504.02             Sea   \n",
       "11534       East April        727110   742.36             Air   \n",
       "10117      Gibsonmouth        526807   269.98            Land   \n",
       "8867      West Michael        760320  1165.13             Air   \n",
       "12824       South Lisa        845434  3047.82            Land   \n",
       "9208         Tylerside        112754  1600.98             Sea   \n",
       "8458     Stevensonfort        547283  1631.36            Land   \n",
       "14978         Troyland        635115   758.32             Air   \n",
       "6790       Crystalview        437323  1814.21             Air   \n",
       "14102  South Codyshire        850605  4301.99            Land   \n",
       "8679        Port Julie        603211   924.83             Sea   \n",
       "2355   Lake Sydneyport        154444  4656.01             Sea   \n",
       "1920    North Jennifer        421173   562.76            Land   \n",
       "7393         Duffyport        195948  4775.17            Land   \n",
       "6602        Christyton        796326  2337.92             Air   \n",
       "11250       Port Henry        833274  2928.56             Air   \n",
       "10169        Donnaview        166824  1070.41            Land   \n",
       "7016         Jonesport        680555  3518.75             Air   \n",
       "386        Rachelmouth        964665  3255.87            Land   \n",
       "\n",
       "                         Supplier            Customer  Invoice_Number  \\\n",
       "7575               Reynolds-Ortiz       Thomas Greene        67819102   \n",
       "7898                  Perez-Burns         Leah Gamble        86423608   \n",
       "11534             Lopez-Hernandez       Robert Rogers        61577279   \n",
       "10117               Little-Oliver          Lacey Ford        49929404   \n",
       "8867       Turner, Choi and Hodge      Michele Wright        95880720   \n",
       "12824    Nelson, Garrett and Moss           Emily Lee        96708013   \n",
       "9208     Reid, Holmes and Goodman        Frank Montes        57485172   \n",
       "8458     Bailey, Wells and Taylor        Rachel Jones        97433702   \n",
       "14978                Mckee-Hughes         Maria Wells        54844815   \n",
       "6790        Barton, Roy and Stein    Rebecca Lyons MD        87318676   \n",
       "14102  Wilson, Randall and Rivera     Jorge Contreras        38743122   \n",
       "8679                   Harris PLC      Heather Norris         7079930   \n",
       "2355                  Young Group       Raymond Combs        15670279   \n",
       "1920                 Lee-Martinez  Michael Barnes DVM           42026   \n",
       "7393                Smith-Lambert         Thomas Todd        64726296   \n",
       "6602                    Quinn Ltd    Jennifer Andrews        85076395   \n",
       "11250            Ramirez and Sons      Julie Santiago        37427456   \n",
       "10169    Mendoza, Lamb and Benson     Veronica Levine        50499620   \n",
       "7016              Cummings-Crosby       Lance Spencer        12254660   \n",
       "386        Poole, Dixon and Mason       Michael Dixon        29957401   \n",
       "\n",
       "          Payment_Terms  \n",
       "7575            Prepaid  \n",
       "7898            Prepaid  \n",
       "11534            Net 60  \n",
       "10117            Net 60  \n",
       "8867            Prepaid  \n",
       "12824            Net 60  \n",
       "9208             Net 60  \n",
       "8458            Prepaid  \n",
       "14978            Net 60  \n",
       "6790             Net 30  \n",
       "14102           Prepaid  \n",
       "8679            Prepaid  \n",
       "2355   Cash on Delivery  \n",
       "1920            Prepaid  \n",
       "7393             Net 30  \n",
       "6602   Cash on Delivery  \n",
       "11250           Prepaid  \n",
       "10169            Net 60  \n",
       "7016             Net 30  \n",
       "386    Cash on Delivery  >"
      ]
     },
     "execution_count": 255,
     "metadata": {},
     "output_type": "execute_result"
    }
   ],
   "source": [
    "# Display Sample Data Information.\n",
    "my_sample.info"
   ]
  },
  {
   "cell_type": "code",
   "execution_count": 257,
   "id": "81eb9903-4a9c-445b-9be9-1f4544299404",
   "metadata": {},
   "outputs": [
    {
     "data": {
      "text/html": [
       "<div>\n",
       "<style scoped>\n",
       "    .dataframe tbody tr th:only-of-type {\n",
       "        vertical-align: middle;\n",
       "    }\n",
       "\n",
       "    .dataframe tbody tr th {\n",
       "        vertical-align: top;\n",
       "    }\n",
       "\n",
       "    .dataframe thead th {\n",
       "        text-align: right;\n",
       "    }\n",
       "</style>\n",
       "<table border=\"1\" class=\"dataframe\">\n",
       "  <thead>\n",
       "    <tr style=\"text-align: right;\">\n",
       "      <th></th>\n",
       "      <th>Transaction_ID</th>\n",
       "      <th>Country</th>\n",
       "      <th>Product</th>\n",
       "      <th>Import_Export</th>\n",
       "      <th>Quantity</th>\n",
       "      <th>Value</th>\n",
       "      <th>Date</th>\n",
       "      <th>Category</th>\n",
       "      <th>Port</th>\n",
       "      <th>Customs_Code</th>\n",
       "      <th>Weight</th>\n",
       "      <th>Shipping_Method</th>\n",
       "      <th>Supplier</th>\n",
       "      <th>Customer</th>\n",
       "      <th>Invoice_Number</th>\n",
       "      <th>Payment_Terms</th>\n",
       "    </tr>\n",
       "  </thead>\n",
       "  <tbody>\n",
       "    <tr>\n",
       "      <th>7575</th>\n",
       "      <td>99298f6d-4630-493f-a215-dba810d36228</td>\n",
       "      <td>Burkina Faso</td>\n",
       "      <td>hundred</td>\n",
       "      <td>Export</td>\n",
       "      <td>1052</td>\n",
       "      <td>3084.02</td>\n",
       "      <td>02-08-2024</td>\n",
       "      <td>Clothing</td>\n",
       "      <td>Greeneland</td>\n",
       "      <td>203424</td>\n",
       "      <td>2619.91</td>\n",
       "      <td>Land</td>\n",
       "      <td>Reynolds-Ortiz</td>\n",
       "      <td>Thomas Greene</td>\n",
       "      <td>67819102</td>\n",
       "      <td>Prepaid</td>\n",
       "    </tr>\n",
       "    <tr>\n",
       "      <th>7898</th>\n",
       "      <td>051dcf24-03f2-4d3e-b8e6-d3bddd298a57</td>\n",
       "      <td>Isle of Man</td>\n",
       "      <td>style</td>\n",
       "      <td>Import</td>\n",
       "      <td>6333</td>\n",
       "      <td>8201.51</td>\n",
       "      <td>27-08-2022</td>\n",
       "      <td>Electronics</td>\n",
       "      <td>South Amyport</td>\n",
       "      <td>238655</td>\n",
       "      <td>1504.02</td>\n",
       "      <td>Sea</td>\n",
       "      <td>Perez-Burns</td>\n",
       "      <td>Leah Gamble</td>\n",
       "      <td>86423608</td>\n",
       "      <td>Prepaid</td>\n",
       "    </tr>\n",
       "    <tr>\n",
       "      <th>11534</th>\n",
       "      <td>5f0d9b14-56b3-4949-b0df-10cdfe78bd54</td>\n",
       "      <td>Argentina</td>\n",
       "      <td>subject</td>\n",
       "      <td>Export</td>\n",
       "      <td>7125</td>\n",
       "      <td>6643.86</td>\n",
       "      <td>18-06-2022</td>\n",
       "      <td>Machinery</td>\n",
       "      <td>East April</td>\n",
       "      <td>727110</td>\n",
       "      <td>742.36</td>\n",
       "      <td>Air</td>\n",
       "      <td>Lopez-Hernandez</td>\n",
       "      <td>Robert Rogers</td>\n",
       "      <td>61577279</td>\n",
       "      <td>Net 60</td>\n",
       "    </tr>\n",
       "    <tr>\n",
       "      <th>10117</th>\n",
       "      <td>db46dd88-18d9-429f-825b-7c85c476714f</td>\n",
       "      <td>Armenia</td>\n",
       "      <td>write</td>\n",
       "      <td>Export</td>\n",
       "      <td>9757</td>\n",
       "      <td>852.29</td>\n",
       "      <td>20-08-2022</td>\n",
       "      <td>Clothing</td>\n",
       "      <td>Gibsonmouth</td>\n",
       "      <td>526807</td>\n",
       "      <td>269.98</td>\n",
       "      <td>Land</td>\n",
       "      <td>Little-Oliver</td>\n",
       "      <td>Lacey Ford</td>\n",
       "      <td>49929404</td>\n",
       "      <td>Net 60</td>\n",
       "    </tr>\n",
       "    <tr>\n",
       "      <th>8867</th>\n",
       "      <td>e1c87ff9-ee9a-40c7-9b9a-3bbda7542293</td>\n",
       "      <td>Barbados</td>\n",
       "      <td>region</td>\n",
       "      <td>Export</td>\n",
       "      <td>1156</td>\n",
       "      <td>1688.27</td>\n",
       "      <td>11-01-2024</td>\n",
       "      <td>Toys</td>\n",
       "      <td>West Michael</td>\n",
       "      <td>760320</td>\n",
       "      <td>1165.13</td>\n",
       "      <td>Air</td>\n",
       "      <td>Turner, Choi and Hodge</td>\n",
       "      <td>Michele Wright</td>\n",
       "      <td>95880720</td>\n",
       "      <td>Prepaid</td>\n",
       "    </tr>\n",
       "  </tbody>\n",
       "</table>\n",
       "</div>"
      ],
      "text/plain": [
       "                             Transaction_ID       Country  Product  \\\n",
       "7575   99298f6d-4630-493f-a215-dba810d36228  Burkina Faso  hundred   \n",
       "7898   051dcf24-03f2-4d3e-b8e6-d3bddd298a57   Isle of Man    style   \n",
       "11534  5f0d9b14-56b3-4949-b0df-10cdfe78bd54     Argentina  subject   \n",
       "10117  db46dd88-18d9-429f-825b-7c85c476714f       Armenia    write   \n",
       "8867   e1c87ff9-ee9a-40c7-9b9a-3bbda7542293      Barbados   region   \n",
       "\n",
       "      Import_Export  Quantity    Value        Date     Category  \\\n",
       "7575         Export      1052  3084.02  02-08-2024     Clothing   \n",
       "7898         Import      6333  8201.51  27-08-2022  Electronics   \n",
       "11534        Export      7125  6643.86  18-06-2022    Machinery   \n",
       "10117        Export      9757   852.29  20-08-2022     Clothing   \n",
       "8867         Export      1156  1688.27  11-01-2024         Toys   \n",
       "\n",
       "                Port  Customs_Code   Weight Shipping_Method  \\\n",
       "7575      Greeneland        203424  2619.91            Land   \n",
       "7898   South Amyport        238655  1504.02             Sea   \n",
       "11534     East April        727110   742.36             Air   \n",
       "10117    Gibsonmouth        526807   269.98            Land   \n",
       "8867    West Michael        760320  1165.13             Air   \n",
       "\n",
       "                     Supplier        Customer  Invoice_Number Payment_Terms  \n",
       "7575           Reynolds-Ortiz   Thomas Greene        67819102       Prepaid  \n",
       "7898              Perez-Burns     Leah Gamble        86423608       Prepaid  \n",
       "11534         Lopez-Hernandez   Robert Rogers        61577279        Net 60  \n",
       "10117           Little-Oliver      Lacey Ford        49929404        Net 60  \n",
       "8867   Turner, Choi and Hodge  Michele Wright        95880720       Prepaid  "
      ]
     },
     "execution_count": 257,
     "metadata": {},
     "output_type": "execute_result"
    }
   ],
   "source": [
    "# Display the First 05 Records of the Sample Data.\n",
    "my_sample.head(5)"
   ]
  },
  {
   "cell_type": "code",
   "execution_count": 267,
   "id": "72a85c84-4a6f-4667-a464-c9b385c5a230",
   "metadata": {},
   "outputs": [
    {
     "name": "stdout",
     "output_type": "stream",
     "text": [
      "                             Transaction_ID           Country Product  \\\n",
      "14995  48df15a8-0823-4964-8c16-eddf2756f382  Marshall Islands     not   \n",
      "14996  31106617-94a6-4646-a001-5e7bd45abc26           Bermuda     air   \n",
      "14997  ee485839-fbde-4ced-af18-d98f5e863081          Tanzania    show   \n",
      "14998  5acd54aa-ec8c-4055-be8b-a447861a471c            Tuvalu      TV   \n",
      "14999  5cc039d0-a052-41fd-bfbb-c9f60c4565ac   North Macedonia    year   \n",
      "\n",
      "      Import_Export  Quantity    Value        Date   Category  \\\n",
      "14995        Export      2860  2055.19  09-07-2024  Furniture   \n",
      "14996        Export      2443  6407.06  18-06-2024  Furniture   \n",
      "14997        Export      1702  9918.29  30-04-2020       Toys   \n",
      "14998        Export      8108  9288.57  29-04-2021   Clothing   \n",
      "14999        Import      5635   561.33  25-12-2019   Clothing   \n",
      "\n",
      "                     Port  Customs_Code   Weight Shipping_Method  \\\n",
      "14995     South Karenfort        393463  4120.35            Land   \n",
      "14996         Jeffreyside        484143  1832.71             Air   \n",
      "14997  North Meganborough        354935  4203.52            Land   \n",
      "14998           Villafurt        234296  1597.72            Land   \n",
      "14999           West Gary        766709  2913.82             Air   \n",
      "\n",
      "                         Supplier        Customer  Invoice_Number  \\\n",
      "14995                 Smith-Lewis   Darlene Davis        29605073   \n",
      "14996                 Jones Group      John Ramos        39044695   \n",
      "14997               Barnes-Romero  Rebecca Phelps        78492040   \n",
      "14998  Smith, Allison and Bennett     Scott Yates        20799602   \n",
      "14999               Fleming-Miles    Steven Young        79237293   \n",
      "\n",
      "          Payment_Terms  \n",
      "14995            Net 60  \n",
      "14996  Cash on Delivery  \n",
      "14997            Net 30  \n",
      "14998  Cash on Delivery  \n",
      "14999            Net 30  \n"
     ]
    }
   ],
   "source": [
    "#Display the bottom 5 rows from the dataset using the tail() function.\n",
    "\n",
    "bottom_rows = my_df.tail(5)\n",
    "print(bottom_rows)"
   ]
  },
  {
   "cell_type": "code",
   "execution_count": 269,
   "id": "462bd9c3-eb22-4aac-b722-178bbb6df024",
   "metadata": {},
   "outputs": [
    {
     "name": "stdout",
     "output_type": "stream",
     "text": [
      "                             Transaction_ID           Country Product  \\\n",
      "14995  48df15a8-0823-4964-8c16-eddf2756f382  Marshall Islands     not   \n",
      "14996  31106617-94a6-4646-a001-5e7bd45abc26           Bermuda     air   \n",
      "14997  ee485839-fbde-4ced-af18-d98f5e863081          Tanzania    show   \n",
      "14998  5acd54aa-ec8c-4055-be8b-a447861a471c            Tuvalu      TV   \n",
      "14999  5cc039d0-a052-41fd-bfbb-c9f60c4565ac   North Macedonia    year   \n",
      "\n",
      "      Import_Export  Quantity    Value        Date   Category  \\\n",
      "14995        Export      2860  2055.19  09-07-2024  Furniture   \n",
      "14996        Export      2443  6407.06  18-06-2024  Furniture   \n",
      "14997        Export      1702  9918.29  30-04-2020       Toys   \n",
      "14998        Export      8108  9288.57  29-04-2021   Clothing   \n",
      "14999        Import      5635   561.33  25-12-2019   Clothing   \n",
      "\n",
      "                     Port  Customs_Code   Weight Shipping_Method  \\\n",
      "14995     South Karenfort        393463  4120.35            Land   \n",
      "14996         Jeffreyside        484143  1832.71             Air   \n",
      "14997  North Meganborough        354935  4203.52            Land   \n",
      "14998           Villafurt        234296  1597.72            Land   \n",
      "14999           West Gary        766709  2913.82             Air   \n",
      "\n",
      "                         Supplier        Customer  Invoice_Number  \\\n",
      "14995                 Smith-Lewis   Darlene Davis        29605073   \n",
      "14996                 Jones Group      John Ramos        39044695   \n",
      "14997               Barnes-Romero  Rebecca Phelps        78492040   \n",
      "14998  Smith, Allison and Bennett     Scott Yates        20799602   \n",
      "14999               Fleming-Miles    Steven Young        79237293   \n",
      "\n",
      "          Payment_Terms  \n",
      "14995            Net 60  \n",
      "14996  Cash on Delivery  \n",
      "14997            Net 30  \n",
      "14998  Cash on Delivery  \n",
      "14999            Net 30  \n"
     ]
    }
   ],
   "source": [
    "# Drop irrelevant columns from the dataset using drop() function.\n",
    "# Assuming 'df' is your DataFrame\n",
    "bottom_rows = my_df.tail(5)\n",
    "print(bottom_rows)"
   ]
  },
  {
   "cell_type": "code",
   "execution_count": 271,
   "id": "5169573c-358e-4f5c-95e1-b6896259354b",
   "metadata": {},
   "outputs": [
    {
     "data": {
      "text/plain": [
       "Index(['Transaction_ID', 'Country', 'Product', 'Import_Export', 'Quantity',\n",
       "       'Value', 'Date', 'Category', 'Port', 'Customs_Code', 'Weight',\n",
       "       'Shipping_Method', 'Supplier', 'Customer', 'Invoice_Number',\n",
       "       'Payment_Terms'],\n",
       "      dtype='object')"
      ]
     },
     "execution_count": 271,
     "metadata": {},
     "output_type": "execute_result"
    }
   ],
   "source": [
    "# List the Names of Variables.\n",
    "my_sample.columns"
   ]
  },
  {
   "cell_type": "code",
   "execution_count": 273,
   "id": "9f8515df-7935-4e5b-baf0-fec16f385250",
   "metadata": {},
   "outputs": [],
   "source": [
    "# Identify & list the following Variables:\n",
    "\n",
    "\n",
    "#Index- Transaction_ID, Customs_Code, Invoice_Number, Product, Supplier, Customer\n",
    "#Categorical- Nominal - Import_Export, Category, Shipping_Method, Payment_Terms, Country\n",
    "#Categorical- Ordinal -\n",
    "#Non-Categorical- Quantity, Value, Date, Port, Weight"
   ]
  },
  {
   "cell_type": "code",
   "execution_count": 275,
   "id": "59e701de-0727-4ca0-a043-3151dba147fa",
   "metadata": {},
   "outputs": [
    {
     "data": {
      "text/html": [
       "<div>\n",
       "<style scoped>\n",
       "    .dataframe tbody tr th:only-of-type {\n",
       "        vertical-align: middle;\n",
       "    }\n",
       "\n",
       "    .dataframe tbody tr th {\n",
       "        vertical-align: top;\n",
       "    }\n",
       "\n",
       "    .dataframe thead th {\n",
       "        text-align: right;\n",
       "    }\n",
       "</style>\n",
       "<table border=\"1\" class=\"dataframe\">\n",
       "  <thead>\n",
       "    <tr style=\"text-align: right;\">\n",
       "      <th></th>\n",
       "      <th>Quantity</th>\n",
       "      <th>Value</th>\n",
       "      <th>Customs_Code</th>\n",
       "      <th>Weight</th>\n",
       "    </tr>\n",
       "  </thead>\n",
       "  <tbody>\n",
       "    <tr>\n",
       "      <th>7575</th>\n",
       "      <td>1052</td>\n",
       "      <td>3084.02</td>\n",
       "      <td>203424</td>\n",
       "      <td>2619.91</td>\n",
       "    </tr>\n",
       "    <tr>\n",
       "      <th>7898</th>\n",
       "      <td>6333</td>\n",
       "      <td>8201.51</td>\n",
       "      <td>238655</td>\n",
       "      <td>1504.02</td>\n",
       "    </tr>\n",
       "    <tr>\n",
       "      <th>11534</th>\n",
       "      <td>7125</td>\n",
       "      <td>6643.86</td>\n",
       "      <td>727110</td>\n",
       "      <td>742.36</td>\n",
       "    </tr>\n",
       "    <tr>\n",
       "      <th>10117</th>\n",
       "      <td>9757</td>\n",
       "      <td>852.29</td>\n",
       "      <td>526807</td>\n",
       "      <td>269.98</td>\n",
       "    </tr>\n",
       "    <tr>\n",
       "      <th>8867</th>\n",
       "      <td>1156</td>\n",
       "      <td>1688.27</td>\n",
       "      <td>760320</td>\n",
       "      <td>1165.13</td>\n",
       "    </tr>\n",
       "    <tr>\n",
       "      <th>12824</th>\n",
       "      <td>8964</td>\n",
       "      <td>5818.59</td>\n",
       "      <td>845434</td>\n",
       "      <td>3047.82</td>\n",
       "    </tr>\n",
       "    <tr>\n",
       "      <th>9208</th>\n",
       "      <td>3218</td>\n",
       "      <td>1390.93</td>\n",
       "      <td>112754</td>\n",
       "      <td>1600.98</td>\n",
       "    </tr>\n",
       "    <tr>\n",
       "      <th>8458</th>\n",
       "      <td>8278</td>\n",
       "      <td>8175.93</td>\n",
       "      <td>547283</td>\n",
       "      <td>1631.36</td>\n",
       "    </tr>\n",
       "    <tr>\n",
       "      <th>14978</th>\n",
       "      <td>6841</td>\n",
       "      <td>9287.25</td>\n",
       "      <td>635115</td>\n",
       "      <td>758.32</td>\n",
       "    </tr>\n",
       "    <tr>\n",
       "      <th>6790</th>\n",
       "      <td>6434</td>\n",
       "      <td>9699.45</td>\n",
       "      <td>437323</td>\n",
       "      <td>1814.21</td>\n",
       "    </tr>\n",
       "    <tr>\n",
       "      <th>14102</th>\n",
       "      <td>1570</td>\n",
       "      <td>2435.28</td>\n",
       "      <td>850605</td>\n",
       "      <td>4301.99</td>\n",
       "    </tr>\n",
       "    <tr>\n",
       "      <th>8679</th>\n",
       "      <td>5257</td>\n",
       "      <td>8165.62</td>\n",
       "      <td>603211</td>\n",
       "      <td>924.83</td>\n",
       "    </tr>\n",
       "    <tr>\n",
       "      <th>2355</th>\n",
       "      <td>3344</td>\n",
       "      <td>5568.45</td>\n",
       "      <td>154444</td>\n",
       "      <td>4656.01</td>\n",
       "    </tr>\n",
       "    <tr>\n",
       "      <th>1920</th>\n",
       "      <td>3119</td>\n",
       "      <td>4857.95</td>\n",
       "      <td>421173</td>\n",
       "      <td>562.76</td>\n",
       "    </tr>\n",
       "    <tr>\n",
       "      <th>7393</th>\n",
       "      <td>8170</td>\n",
       "      <td>1163.52</td>\n",
       "      <td>195948</td>\n",
       "      <td>4775.17</td>\n",
       "    </tr>\n",
       "    <tr>\n",
       "      <th>6602</th>\n",
       "      <td>8945</td>\n",
       "      <td>8939.74</td>\n",
       "      <td>796326</td>\n",
       "      <td>2337.92</td>\n",
       "    </tr>\n",
       "    <tr>\n",
       "      <th>11250</th>\n",
       "      <td>2545</td>\n",
       "      <td>2684.24</td>\n",
       "      <td>833274</td>\n",
       "      <td>2928.56</td>\n",
       "    </tr>\n",
       "    <tr>\n",
       "      <th>10169</th>\n",
       "      <td>1465</td>\n",
       "      <td>6166.74</td>\n",
       "      <td>166824</td>\n",
       "      <td>1070.41</td>\n",
       "    </tr>\n",
       "    <tr>\n",
       "      <th>7016</th>\n",
       "      <td>9820</td>\n",
       "      <td>2678.58</td>\n",
       "      <td>680555</td>\n",
       "      <td>3518.75</td>\n",
       "    </tr>\n",
       "    <tr>\n",
       "      <th>386</th>\n",
       "      <td>1264</td>\n",
       "      <td>3876.04</td>\n",
       "      <td>964665</td>\n",
       "      <td>3255.87</td>\n",
       "    </tr>\n",
       "  </tbody>\n",
       "</table>\n",
       "</div>"
      ],
      "text/plain": [
       "       Quantity    Value  Customs_Code   Weight\n",
       "7575       1052  3084.02        203424  2619.91\n",
       "7898       6333  8201.51        238655  1504.02\n",
       "11534      7125  6643.86        727110   742.36\n",
       "10117      9757   852.29        526807   269.98\n",
       "8867       1156  1688.27        760320  1165.13\n",
       "12824      8964  5818.59        845434  3047.82\n",
       "9208       3218  1390.93        112754  1600.98\n",
       "8458       8278  8175.93        547283  1631.36\n",
       "14978      6841  9287.25        635115   758.32\n",
       "6790       6434  9699.45        437323  1814.21\n",
       "14102      1570  2435.28        850605  4301.99\n",
       "8679       5257  8165.62        603211   924.83\n",
       "2355       3344  5568.45        154444  4656.01\n",
       "1920       3119  4857.95        421173   562.76\n",
       "7393       8170  1163.52        195948  4775.17\n",
       "6602       8945  8939.74        796326  2337.92\n",
       "11250      2545  2684.24        833274  2928.56\n",
       "10169      1465  6166.74        166824  1070.41\n",
       "7016       9820  2678.58        680555  3518.75\n",
       "386        1264  3876.04        964665  3255.87"
      ]
     },
     "execution_count": 275,
     "metadata": {},
     "output_type": "execute_result"
    }
   ],
   "source": [
    "# Subset the Non-Categorical Variables.\n",
    "non_cat_df=my_sample[['Quantity', 'Value', 'Customs_Code','Weight']]\n",
    "non_cat_df"
   ]
  },
  {
   "cell_type": "code",
   "execution_count": 277,
   "id": "034ae7ac-651b-4c16-998d-6114b24a88ae",
   "metadata": {},
   "outputs": [
    {
     "data": {
      "text/html": [
       "<div>\n",
       "<style scoped>\n",
       "    .dataframe tbody tr th:only-of-type {\n",
       "        vertical-align: middle;\n",
       "    }\n",
       "\n",
       "    .dataframe tbody tr th {\n",
       "        vertical-align: top;\n",
       "    }\n",
       "\n",
       "    .dataframe thead th {\n",
       "        text-align: right;\n",
       "    }\n",
       "</style>\n",
       "<table border=\"1\" class=\"dataframe\">\n",
       "  <thead>\n",
       "    <tr style=\"text-align: right;\">\n",
       "      <th></th>\n",
       "      <th>Quantity</th>\n",
       "      <th>Value</th>\n",
       "      <th>Customs_Code</th>\n",
       "      <th>Weight</th>\n",
       "    </tr>\n",
       "  </thead>\n",
       "  <tbody>\n",
       "    <tr>\n",
       "      <th>count</th>\n",
       "      <td>20.00000</td>\n",
       "      <td>20.00000</td>\n",
       "      <td>20.000000</td>\n",
       "      <td>20.000000</td>\n",
       "    </tr>\n",
       "    <tr>\n",
       "      <th>mean</th>\n",
       "      <td>5232.85000</td>\n",
       "      <td>5068.91300</td>\n",
       "      <td>535062.500000</td>\n",
       "      <td>2174.318000</td>\n",
       "    </tr>\n",
       "    <tr>\n",
       "      <th>std</th>\n",
       "      <td>3184.80503</td>\n",
       "      <td>2986.85745</td>\n",
       "      <td>276775.274967</td>\n",
       "      <td>1400.463048</td>\n",
       "    </tr>\n",
       "    <tr>\n",
       "      <th>min</th>\n",
       "      <td>1052.00000</td>\n",
       "      <td>852.29000</td>\n",
       "      <td>112754.000000</td>\n",
       "      <td>269.980000</td>\n",
       "    </tr>\n",
       "    <tr>\n",
       "      <th>25%</th>\n",
       "      <td>2301.25000</td>\n",
       "      <td>2617.75500</td>\n",
       "      <td>229847.250000</td>\n",
       "      <td>1034.015000</td>\n",
       "    </tr>\n",
       "    <tr>\n",
       "      <th>50%</th>\n",
       "      <td>5795.00000</td>\n",
       "      <td>5213.20000</td>\n",
       "      <td>575247.000000</td>\n",
       "      <td>1722.785000</td>\n",
       "    </tr>\n",
       "    <tr>\n",
       "      <th>75%</th>\n",
       "      <td>8197.00000</td>\n",
       "      <td>8168.19750</td>\n",
       "      <td>769321.500000</td>\n",
       "      <td>3099.832500</td>\n",
       "    </tr>\n",
       "    <tr>\n",
       "      <th>max</th>\n",
       "      <td>9820.00000</td>\n",
       "      <td>9699.45000</td>\n",
       "      <td>964665.000000</td>\n",
       "      <td>4775.170000</td>\n",
       "    </tr>\n",
       "  </tbody>\n",
       "</table>\n",
       "</div>"
      ],
      "text/plain": [
       "         Quantity       Value   Customs_Code       Weight\n",
       "count    20.00000    20.00000      20.000000    20.000000\n",
       "mean   5232.85000  5068.91300  535062.500000  2174.318000\n",
       "std    3184.80503  2986.85745  276775.274967  1400.463048\n",
       "min    1052.00000   852.29000  112754.000000   269.980000\n",
       "25%    2301.25000  2617.75500  229847.250000  1034.015000\n",
       "50%    5795.00000  5213.20000  575247.000000  1722.785000\n",
       "75%    8197.00000  8168.19750  769321.500000  3099.832500\n",
       "max    9820.00000  9699.45000  964665.000000  4775.170000"
      ]
     },
     "execution_count": 277,
     "metadata": {},
     "output_type": "execute_result"
    }
   ],
   "source": [
    "# Display the Descriptive Statistics of the Non-Categorical Set.\n",
    "non_cat_df.describe()"
   ]
  },
  {
   "cell_type": "code",
   "execution_count": 178,
   "id": "9943bbed-0995-4df1-9c7f-4c93a9b07ec8",
   "metadata": {},
   "outputs": [
    {
     "data": {
      "text/plain": [
       "Quantity          5795.000\n",
       "Value             5213.200\n",
       "Customs_Code    575247.000\n",
       "Weight            1722.785\n",
       "dtype: float64"
      ]
     },
     "execution_count": 178,
     "metadata": {},
     "output_type": "execute_result"
    }
   ],
   "source": [
    "#median for non-categorical\n",
    "non_cat_df.median()"
   ]
  },
  {
   "cell_type": "code",
   "execution_count": null,
   "id": "8dee63f1-3cb0-4a8e-a9ab-6e9cae19587b",
   "metadata": {},
   "outputs": [],
   "source": [
    "#Analysis:The values indicate the medians for Quantity (5795.00), Value (5213.20), Customs_Code (575,247.00), and Weight (1722.785), reflecting the central tendency of each variable in the dataset."
   ]
  },
  {
   "cell_type": "code",
   "execution_count": 179,
   "id": "2f7c0856-4eaa-4bb3-a847-62430988b383",
   "metadata": {},
   "outputs": [
    {
     "data": {
      "text/html": [
       "<div>\n",
       "<style scoped>\n",
       "    .dataframe tbody tr th:only-of-type {\n",
       "        vertical-align: middle;\n",
       "    }\n",
       "\n",
       "    .dataframe tbody tr th {\n",
       "        vertical-align: top;\n",
       "    }\n",
       "\n",
       "    .dataframe thead th {\n",
       "        text-align: right;\n",
       "    }\n",
       "</style>\n",
       "<table border=\"1\" class=\"dataframe\">\n",
       "  <thead>\n",
       "    <tr style=\"text-align: right;\">\n",
       "      <th></th>\n",
       "      <th>Quantity</th>\n",
       "      <th>Value</th>\n",
       "      <th>Customs_Code</th>\n",
       "      <th>Weight</th>\n",
       "    </tr>\n",
       "  </thead>\n",
       "  <tbody>\n",
       "    <tr>\n",
       "      <th>0</th>\n",
       "      <td>1052</td>\n",
       "      <td>852.29</td>\n",
       "      <td>112754</td>\n",
       "      <td>269.98</td>\n",
       "    </tr>\n",
       "    <tr>\n",
       "      <th>1</th>\n",
       "      <td>1156</td>\n",
       "      <td>1163.52</td>\n",
       "      <td>154444</td>\n",
       "      <td>562.76</td>\n",
       "    </tr>\n",
       "    <tr>\n",
       "      <th>2</th>\n",
       "      <td>1264</td>\n",
       "      <td>1390.93</td>\n",
       "      <td>166824</td>\n",
       "      <td>742.36</td>\n",
       "    </tr>\n",
       "    <tr>\n",
       "      <th>3</th>\n",
       "      <td>1465</td>\n",
       "      <td>1688.27</td>\n",
       "      <td>195948</td>\n",
       "      <td>758.32</td>\n",
       "    </tr>\n",
       "    <tr>\n",
       "      <th>4</th>\n",
       "      <td>1570</td>\n",
       "      <td>2435.28</td>\n",
       "      <td>203424</td>\n",
       "      <td>924.83</td>\n",
       "    </tr>\n",
       "    <tr>\n",
       "      <th>5</th>\n",
       "      <td>2545</td>\n",
       "      <td>2678.58</td>\n",
       "      <td>238655</td>\n",
       "      <td>1070.41</td>\n",
       "    </tr>\n",
       "    <tr>\n",
       "      <th>6</th>\n",
       "      <td>3119</td>\n",
       "      <td>2684.24</td>\n",
       "      <td>421173</td>\n",
       "      <td>1165.13</td>\n",
       "    </tr>\n",
       "    <tr>\n",
       "      <th>7</th>\n",
       "      <td>3218</td>\n",
       "      <td>3084.02</td>\n",
       "      <td>437323</td>\n",
       "      <td>1504.02</td>\n",
       "    </tr>\n",
       "    <tr>\n",
       "      <th>8</th>\n",
       "      <td>3344</td>\n",
       "      <td>3876.04</td>\n",
       "      <td>526807</td>\n",
       "      <td>1600.98</td>\n",
       "    </tr>\n",
       "    <tr>\n",
       "      <th>9</th>\n",
       "      <td>5257</td>\n",
       "      <td>4857.95</td>\n",
       "      <td>547283</td>\n",
       "      <td>1631.36</td>\n",
       "    </tr>\n",
       "    <tr>\n",
       "      <th>10</th>\n",
       "      <td>6333</td>\n",
       "      <td>5568.45</td>\n",
       "      <td>603211</td>\n",
       "      <td>1814.21</td>\n",
       "    </tr>\n",
       "    <tr>\n",
       "      <th>11</th>\n",
       "      <td>6434</td>\n",
       "      <td>5818.59</td>\n",
       "      <td>635115</td>\n",
       "      <td>2337.92</td>\n",
       "    </tr>\n",
       "    <tr>\n",
       "      <th>12</th>\n",
       "      <td>6841</td>\n",
       "      <td>6166.74</td>\n",
       "      <td>680555</td>\n",
       "      <td>2619.91</td>\n",
       "    </tr>\n",
       "    <tr>\n",
       "      <th>13</th>\n",
       "      <td>7125</td>\n",
       "      <td>6643.86</td>\n",
       "      <td>727110</td>\n",
       "      <td>2928.56</td>\n",
       "    </tr>\n",
       "    <tr>\n",
       "      <th>14</th>\n",
       "      <td>8170</td>\n",
       "      <td>8165.62</td>\n",
       "      <td>760320</td>\n",
       "      <td>3047.82</td>\n",
       "    </tr>\n",
       "    <tr>\n",
       "      <th>15</th>\n",
       "      <td>8278</td>\n",
       "      <td>8175.93</td>\n",
       "      <td>796326</td>\n",
       "      <td>3255.87</td>\n",
       "    </tr>\n",
       "    <tr>\n",
       "      <th>16</th>\n",
       "      <td>8945</td>\n",
       "      <td>8201.51</td>\n",
       "      <td>833274</td>\n",
       "      <td>3518.75</td>\n",
       "    </tr>\n",
       "    <tr>\n",
       "      <th>17</th>\n",
       "      <td>8964</td>\n",
       "      <td>8939.74</td>\n",
       "      <td>845434</td>\n",
       "      <td>4301.99</td>\n",
       "    </tr>\n",
       "    <tr>\n",
       "      <th>18</th>\n",
       "      <td>9757</td>\n",
       "      <td>9287.25</td>\n",
       "      <td>850605</td>\n",
       "      <td>4656.01</td>\n",
       "    </tr>\n",
       "    <tr>\n",
       "      <th>19</th>\n",
       "      <td>9820</td>\n",
       "      <td>9699.45</td>\n",
       "      <td>964665</td>\n",
       "      <td>4775.17</td>\n",
       "    </tr>\n",
       "  </tbody>\n",
       "</table>\n",
       "</div>"
      ],
      "text/plain": [
       "    Quantity    Value  Customs_Code   Weight\n",
       "0       1052   852.29        112754   269.98\n",
       "1       1156  1163.52        154444   562.76\n",
       "2       1264  1390.93        166824   742.36\n",
       "3       1465  1688.27        195948   758.32\n",
       "4       1570  2435.28        203424   924.83\n",
       "5       2545  2678.58        238655  1070.41\n",
       "6       3119  2684.24        421173  1165.13\n",
       "7       3218  3084.02        437323  1504.02\n",
       "8       3344  3876.04        526807  1600.98\n",
       "9       5257  4857.95        547283  1631.36\n",
       "10      6333  5568.45        603211  1814.21\n",
       "11      6434  5818.59        635115  2337.92\n",
       "12      6841  6166.74        680555  2619.91\n",
       "13      7125  6643.86        727110  2928.56\n",
       "14      8170  8165.62        760320  3047.82\n",
       "15      8278  8175.93        796326  3255.87\n",
       "16      8945  8201.51        833274  3518.75\n",
       "17      8964  8939.74        845434  4301.99\n",
       "18      9757  9287.25        850605  4656.01\n",
       "19      9820  9699.45        964665  4775.17"
      ]
     },
     "execution_count": 179,
     "metadata": {},
     "output_type": "execute_result"
    }
   ],
   "source": [
    "#mode for non-categorical variables\n",
    "non_cat_df.mode()"
   ]
  },
  {
   "cell_type": "code",
   "execution_count": 180,
   "id": "3c71aa8e-14f8-4601-b20f-3e4bdf6503a4",
   "metadata": {},
   "outputs": [
    {
     "data": {
      "text/html": [
       "<div>\n",
       "<style scoped>\n",
       "    .dataframe tbody tr th:only-of-type {\n",
       "        vertical-align: middle;\n",
       "    }\n",
       "\n",
       "    .dataframe tbody tr th {\n",
       "        vertical-align: top;\n",
       "    }\n",
       "\n",
       "    .dataframe thead th {\n",
       "        text-align: right;\n",
       "    }\n",
       "</style>\n",
       "<table border=\"1\" class=\"dataframe\">\n",
       "  <thead>\n",
       "    <tr style=\"text-align: right;\">\n",
       "      <th></th>\n",
       "      <th>Import_Export</th>\n",
       "      <th>Category</th>\n",
       "      <th>Shipping_Method</th>\n",
       "      <th>Payment_Terms</th>\n",
       "      <th>Country</th>\n",
       "    </tr>\n",
       "  </thead>\n",
       "  <tbody>\n",
       "    <tr>\n",
       "      <th>7575</th>\n",
       "      <td>Export</td>\n",
       "      <td>Clothing</td>\n",
       "      <td>Land</td>\n",
       "      <td>Prepaid</td>\n",
       "      <td>Burkina Faso</td>\n",
       "    </tr>\n",
       "    <tr>\n",
       "      <th>7898</th>\n",
       "      <td>Import</td>\n",
       "      <td>Electronics</td>\n",
       "      <td>Sea</td>\n",
       "      <td>Prepaid</td>\n",
       "      <td>Isle of Man</td>\n",
       "    </tr>\n",
       "    <tr>\n",
       "      <th>11534</th>\n",
       "      <td>Export</td>\n",
       "      <td>Machinery</td>\n",
       "      <td>Air</td>\n",
       "      <td>Net 60</td>\n",
       "      <td>Argentina</td>\n",
       "    </tr>\n",
       "    <tr>\n",
       "      <th>10117</th>\n",
       "      <td>Export</td>\n",
       "      <td>Clothing</td>\n",
       "      <td>Land</td>\n",
       "      <td>Net 60</td>\n",
       "      <td>Armenia</td>\n",
       "    </tr>\n",
       "    <tr>\n",
       "      <th>8867</th>\n",
       "      <td>Export</td>\n",
       "      <td>Toys</td>\n",
       "      <td>Air</td>\n",
       "      <td>Prepaid</td>\n",
       "      <td>Barbados</td>\n",
       "    </tr>\n",
       "    <tr>\n",
       "      <th>12824</th>\n",
       "      <td>Export</td>\n",
       "      <td>Furniture</td>\n",
       "      <td>Land</td>\n",
       "      <td>Net 60</td>\n",
       "      <td>Montenegro</td>\n",
       "    </tr>\n",
       "    <tr>\n",
       "      <th>9208</th>\n",
       "      <td>Import</td>\n",
       "      <td>Electronics</td>\n",
       "      <td>Sea</td>\n",
       "      <td>Net 60</td>\n",
       "      <td>San Marino</td>\n",
       "    </tr>\n",
       "    <tr>\n",
       "      <th>8458</th>\n",
       "      <td>Export</td>\n",
       "      <td>Furniture</td>\n",
       "      <td>Land</td>\n",
       "      <td>Prepaid</td>\n",
       "      <td>Iceland</td>\n",
       "    </tr>\n",
       "    <tr>\n",
       "      <th>14978</th>\n",
       "      <td>Import</td>\n",
       "      <td>Furniture</td>\n",
       "      <td>Air</td>\n",
       "      <td>Net 60</td>\n",
       "      <td>Nigeria</td>\n",
       "    </tr>\n",
       "    <tr>\n",
       "      <th>6790</th>\n",
       "      <td>Export</td>\n",
       "      <td>Electronics</td>\n",
       "      <td>Air</td>\n",
       "      <td>Net 30</td>\n",
       "      <td>Cambodia</td>\n",
       "    </tr>\n",
       "    <tr>\n",
       "      <th>14102</th>\n",
       "      <td>Import</td>\n",
       "      <td>Electronics</td>\n",
       "      <td>Land</td>\n",
       "      <td>Prepaid</td>\n",
       "      <td>Belarus</td>\n",
       "    </tr>\n",
       "    <tr>\n",
       "      <th>8679</th>\n",
       "      <td>Import</td>\n",
       "      <td>Clothing</td>\n",
       "      <td>Sea</td>\n",
       "      <td>Prepaid</td>\n",
       "      <td>United Arab Emirates</td>\n",
       "    </tr>\n",
       "    <tr>\n",
       "      <th>2355</th>\n",
       "      <td>Export</td>\n",
       "      <td>Toys</td>\n",
       "      <td>Sea</td>\n",
       "      <td>Cash on Delivery</td>\n",
       "      <td>Togo</td>\n",
       "    </tr>\n",
       "    <tr>\n",
       "      <th>1920</th>\n",
       "      <td>Export</td>\n",
       "      <td>Clothing</td>\n",
       "      <td>Land</td>\n",
       "      <td>Prepaid</td>\n",
       "      <td>Lebanon</td>\n",
       "    </tr>\n",
       "    <tr>\n",
       "      <th>7393</th>\n",
       "      <td>Import</td>\n",
       "      <td>Toys</td>\n",
       "      <td>Land</td>\n",
       "      <td>Net 30</td>\n",
       "      <td>Turkey</td>\n",
       "    </tr>\n",
       "    <tr>\n",
       "      <th>6602</th>\n",
       "      <td>Import</td>\n",
       "      <td>Electronics</td>\n",
       "      <td>Air</td>\n",
       "      <td>Cash on Delivery</td>\n",
       "      <td>Slovenia</td>\n",
       "    </tr>\n",
       "    <tr>\n",
       "      <th>11250</th>\n",
       "      <td>Import</td>\n",
       "      <td>Machinery</td>\n",
       "      <td>Air</td>\n",
       "      <td>Prepaid</td>\n",
       "      <td>Libyan Arab Jamahiriya</td>\n",
       "    </tr>\n",
       "    <tr>\n",
       "      <th>10169</th>\n",
       "      <td>Import</td>\n",
       "      <td>Electronics</td>\n",
       "      <td>Land</td>\n",
       "      <td>Net 60</td>\n",
       "      <td>Barbados</td>\n",
       "    </tr>\n",
       "    <tr>\n",
       "      <th>7016</th>\n",
       "      <td>Import</td>\n",
       "      <td>Electronics</td>\n",
       "      <td>Air</td>\n",
       "      <td>Net 30</td>\n",
       "      <td>San Marino</td>\n",
       "    </tr>\n",
       "    <tr>\n",
       "      <th>386</th>\n",
       "      <td>Export</td>\n",
       "      <td>Machinery</td>\n",
       "      <td>Land</td>\n",
       "      <td>Cash on Delivery</td>\n",
       "      <td>Angola</td>\n",
       "    </tr>\n",
       "  </tbody>\n",
       "</table>\n",
       "</div>"
      ],
      "text/plain": [
       "      Import_Export     Category Shipping_Method     Payment_Terms  \\\n",
       "7575         Export     Clothing            Land           Prepaid   \n",
       "7898         Import  Electronics             Sea           Prepaid   \n",
       "11534        Export    Machinery             Air            Net 60   \n",
       "10117        Export     Clothing            Land            Net 60   \n",
       "8867         Export         Toys             Air           Prepaid   \n",
       "12824        Export    Furniture            Land            Net 60   \n",
       "9208         Import  Electronics             Sea            Net 60   \n",
       "8458         Export    Furniture            Land           Prepaid   \n",
       "14978        Import    Furniture             Air            Net 60   \n",
       "6790         Export  Electronics             Air            Net 30   \n",
       "14102        Import  Electronics            Land           Prepaid   \n",
       "8679         Import     Clothing             Sea           Prepaid   \n",
       "2355         Export         Toys             Sea  Cash on Delivery   \n",
       "1920         Export     Clothing            Land           Prepaid   \n",
       "7393         Import         Toys            Land            Net 30   \n",
       "6602         Import  Electronics             Air  Cash on Delivery   \n",
       "11250        Import    Machinery             Air           Prepaid   \n",
       "10169        Import  Electronics            Land            Net 60   \n",
       "7016         Import  Electronics             Air            Net 30   \n",
       "386          Export    Machinery            Land  Cash on Delivery   \n",
       "\n",
       "                      Country  \n",
       "7575             Burkina Faso  \n",
       "7898              Isle of Man  \n",
       "11534               Argentina  \n",
       "10117                 Armenia  \n",
       "8867                 Barbados  \n",
       "12824              Montenegro  \n",
       "9208               San Marino  \n",
       "8458                  Iceland  \n",
       "14978                 Nigeria  \n",
       "6790                 Cambodia  \n",
       "14102                 Belarus  \n",
       "8679     United Arab Emirates  \n",
       "2355                     Togo  \n",
       "1920                  Lebanon  \n",
       "7393                   Turkey  \n",
       "6602                 Slovenia  \n",
       "11250  Libyan Arab Jamahiriya  \n",
       "10169                Barbados  \n",
       "7016               San Marino  \n",
       "386                    Angola  "
      ]
     },
     "execution_count": 180,
     "metadata": {},
     "output_type": "execute_result"
    }
   ],
   "source": [
    "# B4.1. Subset and display the Categorical Variables.\n",
    "cat_df = my_sample[['Import_Export', 'Category', 'Shipping_Method', 'Payment_Terms', 'Country']]\n",
    "cat_df"
   ]
  },
  {
   "cell_type": "code",
   "execution_count": 181,
   "id": "60113f7e-384e-4a6b-867d-d5bc21f16662",
   "metadata": {},
   "outputs": [
    {
     "data": {
      "text/plain": [
       "Quantity          8768.00\n",
       "Value             8847.16\n",
       "Customs_Code    851911.00\n",
       "Weight            4505.19\n",
       "dtype: float64"
      ]
     },
     "execution_count": 181,
     "metadata": {},
     "output_type": "execute_result"
    }
   ],
   "source": [
    "#Measures of Dispersion\n",
    "#Range\n",
    "non_cat_df.max()-non_cat_df.min()"
   ]
  },
  {
   "cell_type": "code",
   "execution_count": null,
   "id": "1c09a5ed-d4a9-4306-ba7c-1d6c137cc6c5",
   "metadata": {},
   "outputs": [],
   "source": [
    "#Analysis: The provided values represent the means for Quantity (8768.00), Value (8847.16), Customs_Code (851,911.00), and Weight (4505.19), indicating the average measurements for each variable in the dataset."
   ]
  },
  {
   "cell_type": "code",
   "execution_count": 182,
   "id": "e54731e4-c4ff-42c5-b9e3-aa2274a78730",
   "metadata": {},
   "outputs": [
    {
     "data": {
      "text/plain": [
       "Quantity        0.018142\n",
       "Value           0.111080\n",
       "Customs_Code   -0.210854\n",
       "Weight          0.543040\n",
       "dtype: float64"
      ]
     },
     "execution_count": 182,
     "metadata": {},
     "output_type": "execute_result"
    }
   ],
   "source": [
    "#Skewness \n",
    "non_cat_df.skew()"
   ]
  },
  {
   "cell_type": "code",
   "execution_count": null,
   "id": "022dd4f9-929c-4835-b749-ed5c9c3ea639",
   "metadata": {},
   "outputs": [],
   "source": [
    "#Analysis:The values indicate the coefficients of each variable: Quantity (0.018), Value (0.111), Customs_Code (-0.211), and Weight (0.543), suggesting their respective impacts on the dependent variable in the regression model."
   ]
  },
  {
   "cell_type": "code",
   "execution_count": 183,
   "id": "2c43b8f5-8dba-4949-aedf-0e5af611a88a",
   "metadata": {},
   "outputs": [
    {
     "data": {
      "text/plain": [
       "Quantity       -1.614090\n",
       "Value          -1.466761\n",
       "Customs_Code   -1.387287\n",
       "Weight         -0.848881\n",
       "dtype: float64"
      ]
     },
     "execution_count": 183,
     "metadata": {},
     "output_type": "execute_result"
    }
   ],
   "source": [
    "#Kurtosis\n",
    "non_cat_df.kurt()"
   ]
  },
  {
   "cell_type": "code",
   "execution_count": null,
   "id": "e16d75cc-2e51-45ee-8a63-f5769445e9dc",
   "metadata": {},
   "outputs": [],
   "source": [
    "#Analysis: The provided values represent the standardized scores (z-scores) for Quantity (-1.61), Value (-1.47), Customs_Code (-1.39), and Weight (-0.85), indicating how many standard deviations each variable is below the mean."
   ]
  },
  {
   "cell_type": "code",
   "execution_count": 184,
   "id": "f9a33804-bd3e-4d26-bc46-215bf02f5cea",
   "metadata": {},
   "outputs": [
    {
     "data": {
      "text/html": [
       "<div>\n",
       "<style scoped>\n",
       "    .dataframe tbody tr th:only-of-type {\n",
       "        vertical-align: middle;\n",
       "    }\n",
       "\n",
       "    .dataframe tbody tr th {\n",
       "        vertical-align: top;\n",
       "    }\n",
       "\n",
       "    .dataframe thead th {\n",
       "        text-align: right;\n",
       "    }\n",
       "</style>\n",
       "<table border=\"1\" class=\"dataframe\">\n",
       "  <thead>\n",
       "    <tr style=\"text-align: right;\">\n",
       "      <th></th>\n",
       "      <th>Quantity</th>\n",
       "      <th>Value</th>\n",
       "      <th>Customs_Code</th>\n",
       "      <th>Weight</th>\n",
       "    </tr>\n",
       "  </thead>\n",
       "  <tbody>\n",
       "    <tr>\n",
       "      <th>Quantity</th>\n",
       "      <td>1.000000</td>\n",
       "      <td>0.274486</td>\n",
       "      <td>0.112576</td>\n",
       "      <td>-0.078014</td>\n",
       "    </tr>\n",
       "    <tr>\n",
       "      <th>Value</th>\n",
       "      <td>0.274486</td>\n",
       "      <td>1.000000</td>\n",
       "      <td>0.042835</td>\n",
       "      <td>-0.318250</td>\n",
       "    </tr>\n",
       "    <tr>\n",
       "      <th>Customs_Code</th>\n",
       "      <td>0.112576</td>\n",
       "      <td>0.042835</td>\n",
       "      <td>1.000000</td>\n",
       "      <td>0.032863</td>\n",
       "    </tr>\n",
       "    <tr>\n",
       "      <th>Weight</th>\n",
       "      <td>-0.078014</td>\n",
       "      <td>-0.318250</td>\n",
       "      <td>0.032863</td>\n",
       "      <td>1.000000</td>\n",
       "    </tr>\n",
       "  </tbody>\n",
       "</table>\n",
       "</div>"
      ],
      "text/plain": [
       "              Quantity     Value  Customs_Code    Weight\n",
       "Quantity      1.000000  0.274486      0.112576 -0.078014\n",
       "Value         0.274486  1.000000      0.042835 -0.318250\n",
       "Customs_Code  0.112576  0.042835      1.000000  0.032863\n",
       "Weight       -0.078014 -0.318250      0.032863  1.000000"
      ]
     },
     "execution_count": 184,
     "metadata": {},
     "output_type": "execute_result"
    }
   ],
   "source": [
    "#Correlation\n",
    "non_cat_df.corr()"
   ]
  },
  {
   "cell_type": "code",
   "execution_count": null,
   "id": "33cc2d6b-8053-44d6-b087-682240da0393",
   "metadata": {},
   "outputs": [],
   "source": [
    "#Analysis: The correlation matrix indicates a moderate positive correlation between Quantity and Value (0.27), a moderate negative correlation between Value and Weight (-0.32), and negligible correlations among Customs_Code with other variables."
   ]
  },
  {
   "cell_type": "code",
   "execution_count": 185,
   "id": "bb1c9749-0d8f-4bb3-aca5-520dd67f97f9",
   "metadata": {},
   "outputs": [
    {
     "data": {
      "text/plain": [
       "60.86176806877888"
      ]
     },
     "execution_count": 185,
     "metadata": {},
     "output_type": "execute_result"
    }
   ],
   "source": [
    "#Composite Measure \n",
    "#Coefficient of Variation\n",
    "import statistics as stats\n",
    "cv = (stats.stdev(non_cat_df['Quantity']) / non_cat_df['Quantity'].mean()) * 100 \n",
    "cv"
   ]
  },
  {
   "cell_type": "code",
   "execution_count": 186,
   "id": "c6f3600f-54bc-4ba4-96c0-b88f69afed49",
   "metadata": {},
   "outputs": [
    {
     "data": {
      "text/plain": [
       "64.40930202373983"
      ]
     },
     "execution_count": 186,
     "metadata": {},
     "output_type": "execute_result"
    }
   ],
   "source": [
    "cv = (stats.stdev(non_cat_df['Weight']) / non_cat_df['Weight'].mean()) * 100 \n",
    "cv"
   ]
  },
  {
   "cell_type": "code",
   "execution_count": 187,
   "id": "0a26b208-bcd0-4d0f-aedf-ebcc61d3f7de",
   "metadata": {},
   "outputs": [
    {
     "data": {
      "text/plain": [
       "58.92500916025982"
      ]
     },
     "execution_count": 187,
     "metadata": {},
     "output_type": "execute_result"
    }
   ],
   "source": [
    "cv = (stats.stdev(non_cat_df['Value']) / non_cat_df['Value'].mean()) * 100 \n",
    "cv"
   ]
  },
  {
   "cell_type": "code",
   "execution_count": 205,
   "id": "2bd84e75-60a6-4e77-9677-da8d94ba7988",
   "metadata": {},
   "outputs": [],
   "source": [
    "import numpy as np\n",
    "import pandas as pd\n",
    "import scipy.stats as stats\n",
    "\n",
    "#Confidence Interval\n",
    "mean_value = non_cat_df['Value'].mean()\n",
    "std_dev = non_cat_df['Value'].std()\n",
    "n = len(non_cat_df['Value'])\n",
    "\n",
    "# Confidence level (95%)\n",
    "confidence_level = 0.95\n",
    "alpha = 1 - confidence_level\n",
    "\n",
    "# Calculate the critical value for the t-distribution\n",
    "critical_value = stats.t.ppf(1 - alpha/2, df=n-1)"
   ]
  },
  {
   "cell_type": "code",
   "execution_count": 207,
   "id": "c6be4254-f30b-476f-b8ec-4911bc33577a",
   "metadata": {},
   "outputs": [],
   "source": [
    "# Calculate the margin of error\n",
    "margin_of_error = critical_value * (std_dev / np.sqrt(n))"
   ]
  },
  {
   "cell_type": "code",
   "execution_count": 209,
   "id": "d952b6b1-2760-434d-8e30-23525d2fa6d9",
   "metadata": {},
   "outputs": [],
   "source": [
    "# Calculate confidence interval\n",
    "confidence_interval = (mean_value - margin_of_error, mean_value + margin_of_error)"
   ]
  },
  {
   "cell_type": "code",
   "execution_count": 211,
   "id": "cd6ec9e1-9cd1-4f49-b1c2-5f4e4db2828d",
   "metadata": {},
   "outputs": [
    {
     "name": "stdout",
     "output_type": "stream",
     "text": [
      "Mean: 5068.91\n",
      "Standard Deviation: 2986.86\n",
      "Confidence Interval (95%): (3671.0206836759908, 6466.80531632401)\n"
     ]
    }
   ],
   "source": [
    "# Display results\n",
    "print(f\"Mean: {mean_value:.2f}\")\n",
    "print(f\"Standard Deviation: {std_dev:.2f}\")\n",
    "print(f\"Confidence Interval (95%): {confidence_interval}\")"
   ]
  },
  {
   "cell_type": "code",
   "execution_count": null,
   "id": "b1a8c66b-e1ee-4f0f-b2b0-e90660b851cb",
   "metadata": {},
   "outputs": [],
   "source": [
    "#Analysis: The mean is 5068.91 with a standard deviation of 2986.86, and the 95% confidence interval ranges from approximately 3671.02 to 6466.81, indicating where the true population mean is likely to fall."
   ]
  },
  {
   "cell_type": "code",
   "execution_count": 215,
   "id": "07758596-1381-4486-a7db-640deb53da6d",
   "metadata": {},
   "outputs": [
    {
     "name": "stdout",
     "output_type": "stream",
     "text": [
      "T-Statistic, p_value and df:  TtestResult(statistic=3.82313617876366, pvalue=0.0011475393101866513, df=19)\n",
      "Signifiance difference between the means\n"
     ]
    }
   ],
   "source": [
    "#Inferential Statistics\n",
    "#Test of Mean {t}\n",
    "t_stats1 = stats.ttest_rel(non_cat_df['Quantity'], non_cat_df['Weight'])\n",
    "print('T-Statistic, p_value and df: ', t_stats1)\n",
    "\n",
    "significance_level = 0.05\n",
    "\n",
    "if t_stats1.pvalue < significance_level:\n",
    "    print('Signifiance difference between the means')\n",
    "else:\n",
    "    print('No Signifiance difference between the means')\n",
    "\n"
   ]
  },
  {
   "cell_type": "code",
   "execution_count": null,
   "id": "6aafbbd0-5130-4daa-9632-a88e4e8e9dc1",
   "metadata": {},
   "outputs": [],
   "source": [
    "#Analysis: The T-statistic of 3.82, a p-value of 0.00115, and 19 degrees of freedom indicate a significant difference between the means of the groups being compared."
   ]
  },
  {
   "cell_type": "code",
   "execution_count": 219,
   "id": "0135ce8e-0f6a-4432-97a8-765f08a1b8b0",
   "metadata": {},
   "outputs": [
    {
     "name": "stdout",
     "output_type": "stream",
     "text": [
      "Variance of Quantity :  10142983.081578948\n",
      "Variance of Weight :  1961296.7476273682\n",
      "p_value for 2 tail:  0.000769824772856476\n",
      "The variances are significantly different\n"
     ]
    }
   ],
   "source": [
    "#Test of Variance {F}\n",
    "var_Quantity = np.var(non_cat_df['Quantity'], ddof = 1)\n",
    "var_Weight = np.var(non_cat_df['Weight'], ddof = 1)\n",
    "\n",
    "print('Variance of Quantity : ', var_Quantity)\n",
    "print('Variance of Weight : ', var_Weight)\n",
    "\n",
    "F = var_Quantity / var_Weight\n",
    "\n",
    "dof1 = len(non_cat_df['Quantity']) - 1\n",
    "dof2 = len(non_cat_df['Weight']) - 1\n",
    "\n",
    "p_value = 1 - stats.f.cdf(F, dof1, dof2) # cdf = cumulative distribution function\n",
    "\n",
    "p_value_2T = np.round(p_value * 2, 18)\n",
    "print(\"p_value for 2 tail: \", p_value_2T)\n",
    "\n",
    "significance_level = 0.05\n",
    "\n",
    "if (p_value_2T < significance_level):\n",
    "    print(\"The variances are significantly different\")\n",
    "\n",
    "else:\n",
    "    print(\"The variances are not significantly different\")"
   ]
  },
  {
   "cell_type": "code",
   "execution_count": null,
   "id": "96644cc6-6380-4fdb-af1a-0876049e2c3e",
   "metadata": {},
   "outputs": [],
   "source": [
    "#Analysis: The variance of Quantity (10,142,983.08) and the variance of Weight (1,961,296.75) have a two-tailed p-value of 0.00077, indicating that the variances are significantly different."
   ]
  },
  {
   "cell_type": "code",
   "execution_count": 223,
   "id": "e7d64161-a197-4b86-beff-c466bd9b2e74",
   "metadata": {},
   "outputs": [
    {
     "name": "stdout",
     "output_type": "stream",
     "text": [
      "levene's test stats:  10.72519969541441\n",
      "p_value:  0.00011129389898521031\n",
      "Significant difference between the variances\n"
     ]
    }
   ],
   "source": [
    "#levene Test\n",
    "stat, p_value = stats.levene(non_cat_df['Quantity'],non_cat_df['Value'],non_cat_df['Weight'], center = 'median')\n",
    "print(\"levene's test stats: \", stat)\n",
    "print(\"p_value: \", p_value)\n",
    "\n",
    "significance_level = 0.05\n",
    "\n",
    "if p_value < significance_level:\n",
    "    print('Significant difference between the variances')\n",
    "\n",
    "else:\n",
    "    print('No significant difference between the variances')"
   ]
  },
  {
   "cell_type": "code",
   "execution_count": null,
   "id": "506d2097-a91b-4f10-84bd-78de9fc57736",
   "metadata": {},
   "outputs": [],
   "source": [
    "#Analysis: Levene's test statistic of 10.73 and a p-value of 0.00011 indicate a significant difference between the variances of the groups being compared."
   ]
  },
  {
   "cell_type": "code",
   "execution_count": 291,
   "id": "2afce852-10ec-4902-a027-60d88f68f489",
   "metadata": {},
   "outputs": [
    {
     "name": "stdout",
     "output_type": "stream",
     "text": [
      "Sample proporation:  0\n",
      "Sample size:  20\n",
      "hypothesized proportion 100\n",
      "Z-stats:  (-2.7521890118373175e-16+4.494665749754947j)\n",
      "p_value:  6.967931072798805e-06\n",
      "hypothesized proportion is significantly different from the proportion quantity\n"
     ]
    }
   ],
   "source": [
    "#Test of Proportion {z}\n",
    "Pro_Weight = 0 # Sample proportion\n",
    "for i in range(len(non_cat_df['Weight'])):\n",
    "    n = non_cat_df['Weight'].iloc[i]\n",
    "    if (5000 <= n <= 4700):\n",
    "        Pro_Weight += 1\n",
    "    \n",
    "Size_Weight = len(non_cat_df['Weight'])\n",
    "\n",
    "print('Sample proporation: ', Pro_Weight)\n",
    "print('Sample size: ', Size_Weight)\n",
    "\n",
    "hypothesize_proportion = 100  # Hypothesized quantity proportion\n",
    "\n",
    "print('hypothesized proportion', hypothesize_proportion)\n",
    "\n",
    "standard_error = (hypothesize_proportion * (1 - hypothesize_proportion) / Size_Weight) ** 0.5\n",
    "\n",
    "z_stats = (Pro_Weight - hypothesize_proportion) / standard_error\n",
    "\n",
    "p_value = 2 * (1 - stats.norm.cdf(abs(z_stats)))\n",
    "\n",
    "print('Z-stats: ', z_stats)\n",
    "print('p_value: ', p_value)\n",
    "\n",
    "significance_level = 0.05\n",
    "\n",
    "if p_value < significance_level:\n",
    "    print('hypothesized proportion is significantly different from the proportion quantity')\n",
    "else:\n",
    "    print('hypothesized proportion is not significantly different from the proportion quantity')"
   ]
  },
  {
   "cell_type": "code",
   "execution_count": null,
   "id": "55c25760-57df-4dc9-a856-a7967efea0df",
   "metadata": {},
   "outputs": [],
   "source": [
    "#Analysis- we assumed hypothesis proportion for weight to be 0, but there is not a single proportion here, that is why our hypothesis proprtion is different from actual proportion."
   ]
  },
  {
   "cell_type": "code",
   "execution_count": 227,
   "id": "34833c4e-8ec2-494c-a918-9d7617e17548",
   "metadata": {},
   "outputs": [
    {
     "name": "stdout",
     "output_type": "stream",
     "text": [
      "Shapiro-wilk Test for:  Quantity\n",
      "Test stats:  0.8956233232205212  and p-value:  0.034165531076202904\n",
      "Reject (sample does not appear to be normally distributed)\n",
      "\n",
      "\n",
      "Shapiro-wilk Test for:  Weight\n",
      "Test stats:  0.9291184000160198  and p-value:  0.14849833410000118\n",
      "Fail to reject (sample is consistent with normality)\n",
      "\n",
      "\n",
      "Shapiro-wilk Test for:  Value\n",
      "Test stats:  0.9222735348463513  and p-value:  0.1095962371082379\n",
      "Fail to reject (sample is consistent with normality)\n"
     ]
    }
   ],
   "source": [
    "#Test of Normality \n",
    "#Shapiro-Wilk\n",
    "def shapiro_test(sample, name):\n",
    "    stat, p_value = stats.shapiro(sample)\n",
    "    print(\"Shapiro-wilk Test for: \", name)\n",
    "    print(\"Test stats: \", stat, \" and p-value: \", p_value)\n",
    "\n",
    "    significance_level = 0.05\n",
    "    if p_value > significance_level:\n",
    "        print(\"Fail to reject (sample is consistent with normality)\")\n",
    "    else:\n",
    "        print(\"Reject (sample does not appear to be normally distributed)\")\n",
    "\n",
    "\n",
    "shapiro_test(non_cat_df['Quantity'], \"Quantity\")\n",
    "print(\"\\n\")\n",
    "shapiro_test(non_cat_df['Weight'], \"Weight\")\n",
    "print(\"\\n\")\n",
    "shapiro_test(non_cat_df['Value'], \"Value\")"
   ]
  },
  {
   "cell_type": "code",
   "execution_count": null,
   "id": "ad033c95-27ed-4d5b-a91d-0889ff5a9d19",
   "metadata": {},
   "outputs": [],
   "source": [
    "#Analysis- It can be observed that quality is not normality distributed, but weight and value are normally distributed."
   ]
  },
  {
   "cell_type": "code",
   "execution_count": 229,
   "id": "b859e010-852a-4b20-bef4-a616421d988f",
   "metadata": {},
   "outputs": [
    {
     "name": "stdout",
     "output_type": "stream",
     "text": [
      "Quantity and Weight test stats:  0.55 p-value:  0.00396729438660086\n",
      "Weight and Value test stats:  0.55 p-value:  0.00396729438660086\n",
      "Value and Quantity test stats:  0.15 p-value:  0.9831368772656193\n",
      "\n",
      "\n",
      "Quantity and Weight are from different distribution (rejected)\n",
      "\n",
      "\n",
      "Weight and Value are from different distribution (rejected)\n",
      "\n",
      "\n",
      "Value and Quantity are from same distribution (fail to reject)\n"
     ]
    }
   ],
   "source": [
    "#Kolmogorov-Smirnov\n",
    "statQ_W, p_valueQ_W = stats.ks_2samp(non_cat_df['Quantity'], non_cat_df['Weight'])\n",
    "statW_V, p_valueW_V = stats.ks_2samp(non_cat_df['Weight'], non_cat_df['Value'])\n",
    "statV_Q, p_valueV_Q = stats.ks_2samp(non_cat_df['Value'], non_cat_df['Quantity'])\n",
    "\n",
    "print('Quantity and Weight test stats: ', statQ_W, 'p-value: ', p_valueQ_W)\n",
    "print('Weight and Value test stats: ', statW_V, 'p-value: ', p_valueW_V)\n",
    "print('Value and Quantity test stats: ', statV_Q, 'p-value: ', p_valueV_Q)\n",
    "\n",
    "significance_level = 0.05\n",
    "print('\\n')\n",
    "\n",
    "if p_valueQ_W > significance_level:\n",
    "    print(\"Quantity and Weight are from same distribution (fail to reject)\")\n",
    "else:\n",
    "    print(\"Quantity and Weight are from different distribution (rejected)\")\n",
    "\n",
    "print('\\n')\n",
    "\n",
    "if p_valueW_V > significance_level:\n",
    "    print(\"Weight and Value are from same distribution (fail to reject)\")\n",
    "else:\n",
    "    print(\"Weight and Value are from different distribution (rejected)\")\n",
    "\n",
    "print('\\n')\n",
    "\n",
    "if p_valueV_Q > significance_level:\n",
    "    print(\"Value and Quantity are from same distribution (fail to reject)\")\n",
    "else:\n",
    "    print(\"Value and Quantity are from different distribution (rejected)\")"
   ]
  },
  {
   "cell_type": "code",
   "execution_count": null,
   "id": "cf1f5b43-5bb1-488b-bb38-53926884af1e",
   "metadata": {},
   "outputs": [],
   "source": [
    "#Analysis: Quantity and Weight, as well as Weight and Value, are from different distributions (both rejected), while Value and Quantity are from the same distribution (fail to reject)."
   ]
  },
  {
   "cell_type": "code",
   "execution_count": 231,
   "id": "db43aea5-7d2e-4347-b018-4ebe78d92c2d",
   "metadata": {},
   "outputs": [
    {
     "data": {
      "text/html": [
       "<div>\n",
       "<style scoped>\n",
       "    .dataframe tbody tr th:only-of-type {\n",
       "        vertical-align: middle;\n",
       "    }\n",
       "\n",
       "    .dataframe tbody tr th {\n",
       "        vertical-align: top;\n",
       "    }\n",
       "\n",
       "    .dataframe thead th {\n",
       "        text-align: right;\n",
       "    }\n",
       "</style>\n",
       "<table border=\"1\" class=\"dataframe\">\n",
       "  <thead>\n",
       "    <tr style=\"text-align: right;\">\n",
       "      <th></th>\n",
       "      <th>Import_Export</th>\n",
       "      <th>Category</th>\n",
       "      <th>Shipping_Method</th>\n",
       "      <th>Payment_Terms</th>\n",
       "      <th>Country</th>\n",
       "    </tr>\n",
       "  </thead>\n",
       "  <tbody>\n",
       "    <tr>\n",
       "      <th>count</th>\n",
       "      <td>20</td>\n",
       "      <td>20</td>\n",
       "      <td>20</td>\n",
       "      <td>20</td>\n",
       "      <td>20</td>\n",
       "    </tr>\n",
       "    <tr>\n",
       "      <th>unique</th>\n",
       "      <td>2</td>\n",
       "      <td>5</td>\n",
       "      <td>3</td>\n",
       "      <td>4</td>\n",
       "      <td>18</td>\n",
       "    </tr>\n",
       "    <tr>\n",
       "      <th>top</th>\n",
       "      <td>Export</td>\n",
       "      <td>Electronics</td>\n",
       "      <td>Land</td>\n",
       "      <td>Prepaid</td>\n",
       "      <td>Barbados</td>\n",
       "    </tr>\n",
       "    <tr>\n",
       "      <th>freq</th>\n",
       "      <td>10</td>\n",
       "      <td>7</td>\n",
       "      <td>9</td>\n",
       "      <td>8</td>\n",
       "      <td>2</td>\n",
       "    </tr>\n",
       "  </tbody>\n",
       "</table>\n",
       "</div>"
      ],
      "text/plain": [
       "       Import_Export     Category Shipping_Method Payment_Terms   Country\n",
       "count             20           20              20            20        20\n",
       "unique             2            5               3             4        18\n",
       "top           Export  Electronics            Land       Prepaid  Barbados\n",
       "freq              10            7               9             8         2"
      ]
     },
     "execution_count": 231,
     "metadata": {},
     "output_type": "execute_result"
    }
   ],
   "source": [
    "#Descriptive Data for Categorical Variables\n",
    "cat_df.describe()"
   ]
  },
  {
   "cell_type": "code",
   "execution_count": 289,
   "id": "2c354e3d-208d-467c-a458-484b3f0a1e6e",
   "metadata": {},
   "outputs": [
    {
     "data": {
      "text/plain": [
       "20"
      ]
     },
     "execution_count": 289,
     "metadata": {},
     "output_type": "execute_result"
    }
   ],
   "source": [
    "#Proportion\n",
    "# Calculate total\n",
    "total = len(cat_df['Shipping_Method'])\n",
    "total"
   ]
  },
  {
   "cell_type": "code",
   "execution_count": 243,
   "id": "596d3b4a-d9de-419a-989d-350147eaaf8c",
   "metadata": {},
   "outputs": [
    {
     "data": {
      "text/plain": [
       "Import_Export                Export\n",
       "Category                   Clothing\n",
       "Shipping_Method                 Air\n",
       "Payment_Terms      Cash on Delivery\n",
       "Country                      Angola\n",
       "dtype: object"
      ]
     },
     "execution_count": 243,
     "metadata": {},
     "output_type": "execute_result"
    }
   ],
   "source": [
    "#Minimum\n",
    "cat_df.min()"
   ]
  },
  {
   "cell_type": "code",
   "execution_count": null,
   "id": "e8bf74f7-dd95-49b1-9b91-53904d4ae903",
   "metadata": {},
   "outputs": [],
   "source": [
    "#Analysis: After applying the `min` function in Python, the output indicates the lowest values or categories for each feature, highlighting the minimal attributes of the export transaction."
   ]
  },
  {
   "cell_type": "code",
   "execution_count": 241,
   "id": "d2587840-bc68-49dc-8eb3-7800d3125712",
   "metadata": {},
   "outputs": [
    {
     "data": {
      "text/plain": [
       "Import_Export                    Import\n",
       "Category                           Toys\n",
       "Shipping_Method                     Sea\n",
       "Payment_Terms                   Prepaid\n",
       "Country            United Arab Emirates\n",
       "dtype: object"
      ]
     },
     "execution_count": 241,
     "metadata": {},
     "output_type": "execute_result"
    }
   ],
   "source": [
    "#Maximum\n",
    "cat_df.max()"
   ]
  },
  {
   "cell_type": "code",
   "execution_count": null,
   "id": "e8ff348c-9fdf-460a-a105-a8a50fb7258e",
   "metadata": {},
   "outputs": [],
   "source": [
    "#Analysis: After applying the `max` function in Python, the output indicates the highest values or categories for each feature, highlighting the maximum attributes of the export transaction."
   ]
  },
  {
   "cell_type": "code",
   "execution_count": 239,
   "id": "12017dcf-3f1f-4cac-bdc4-c44f098d492b",
   "metadata": {},
   "outputs": [
    {
     "data": {
      "text/html": [
       "<div>\n",
       "<style scoped>\n",
       "    .dataframe tbody tr th:only-of-type {\n",
       "        vertical-align: middle;\n",
       "    }\n",
       "\n",
       "    .dataframe tbody tr th {\n",
       "        vertical-align: top;\n",
       "    }\n",
       "\n",
       "    .dataframe thead th {\n",
       "        text-align: right;\n",
       "    }\n",
       "</style>\n",
       "<table border=\"1\" class=\"dataframe\">\n",
       "  <thead>\n",
       "    <tr style=\"text-align: right;\">\n",
       "      <th></th>\n",
       "      <th>Import_Export</th>\n",
       "      <th>Category</th>\n",
       "      <th>Shipping_Method</th>\n",
       "      <th>Payment_Terms</th>\n",
       "      <th>Country</th>\n",
       "    </tr>\n",
       "  </thead>\n",
       "  <tbody>\n",
       "    <tr>\n",
       "      <th>0</th>\n",
       "      <td>Export</td>\n",
       "      <td>Electronics</td>\n",
       "      <td>Land</td>\n",
       "      <td>Prepaid</td>\n",
       "      <td>Barbados</td>\n",
       "    </tr>\n",
       "    <tr>\n",
       "      <th>1</th>\n",
       "      <td>Import</td>\n",
       "      <td>NaN</td>\n",
       "      <td>NaN</td>\n",
       "      <td>NaN</td>\n",
       "      <td>San Marino</td>\n",
       "    </tr>\n",
       "  </tbody>\n",
       "</table>\n",
       "</div>"
      ],
      "text/plain": [
       "  Import_Export     Category Shipping_Method Payment_Terms     Country\n",
       "0        Export  Electronics            Land       Prepaid    Barbados\n",
       "1        Import          NaN             NaN           NaN  San Marino"
      ]
     },
     "execution_count": 239,
     "metadata": {},
     "output_type": "execute_result"
    }
   ],
   "source": [
    "#Mode\n",
    "cat_df.mode()"
   ]
  },
  {
   "cell_type": "code",
   "execution_count": 293,
   "id": "c147b171-ffb0-46bd-8b9a-8122e41adcfc",
   "metadata": {},
   "outputs": [
    {
     "data": {
      "text/html": [
       "<div>\n",
       "<style scoped>\n",
       "    .dataframe tbody tr th:only-of-type {\n",
       "        vertical-align: middle;\n",
       "    }\n",
       "\n",
       "    .dataframe tbody tr th {\n",
       "        vertical-align: top;\n",
       "    }\n",
       "\n",
       "    .dataframe thead th {\n",
       "        text-align: right;\n",
       "    }\n",
       "</style>\n",
       "<table border=\"1\" class=\"dataframe\">\n",
       "  <thead>\n",
       "    <tr style=\"text-align: right;\">\n",
       "      <th></th>\n",
       "      <th>Import_Export</th>\n",
       "      <th>Category</th>\n",
       "      <th>Shipping_Method</th>\n",
       "      <th>Payment_Terms</th>\n",
       "      <th>Country</th>\n",
       "    </tr>\n",
       "  </thead>\n",
       "  <tbody>\n",
       "    <tr>\n",
       "      <th>7575</th>\n",
       "      <td>5.5</td>\n",
       "      <td>2.5</td>\n",
       "      <td>12.0</td>\n",
       "      <td>16.5</td>\n",
       "      <td>7.0</td>\n",
       "    </tr>\n",
       "  </tbody>\n",
       "</table>\n",
       "</div>"
      ],
      "text/plain": [
       "      Import_Export  Category  Shipping_Method  Payment_Terms  Country\n",
       "7575            5.5       2.5             12.0           16.5      7.0"
      ]
     },
     "execution_count": 293,
     "metadata": {},
     "output_type": "execute_result"
    }
   ],
   "source": [
    "#Rank\n",
    "cat_df.rank().head(1)"
   ]
  },
  {
   "cell_type": "code",
   "execution_count": 285,
   "id": "10aa7628-6e18-4a43-aa13-3ddc99f2f891",
   "metadata": {},
   "outputs": [
    {
     "name": "stdout",
     "output_type": "stream",
     "text": [
      "Chi-squared Statistic: 18.0\n",
      "p-value: 0.388840878567665\n"
     ]
    }
   ],
   "source": [
    "#Chi-sq Test {Test of Independence}\n",
    "\n",
    "contingency_table = pd.crosstab(cat_df['Country'], cat_df['Import_Export'])\n",
    "chi2_stat, p_val, dof, ex = stats.chi2_contingency(contingency_table)\n",
    "\n",
    "print(\"Chi-squared Statistic:\", chi2_stat)\n",
    "print(\"p-value:\", p_val)"
   ]
  },
  {
   "cell_type": "code",
   "execution_count": null,
   "id": "004ad8e0-2a00-434f-ad8e-13476b17043c",
   "metadata": {},
   "outputs": [],
   "source": [
    "#Analysis: \n",
    "#Since the Chi-squared statistic of 18.0 has a p-value of 0.389, it indicates no significant association between the categorical variables in the transaction dataset."
   ]
  }
 ],
 "metadata": {
  "kernelspec": {
   "display_name": "Python 3 (ipykernel)",
   "language": "python",
   "name": "python3"
  },
  "language_info": {
   "codemirror_mode": {
    "name": "ipython",
    "version": 3
   },
   "file_extension": ".py",
   "mimetype": "text/x-python",
   "name": "python",
   "nbconvert_exporter": "python",
   "pygments_lexer": "ipython3",
   "version": "3.12.4"
  }
 },
 "nbformat": 4,
 "nbformat_minor": 5
}
